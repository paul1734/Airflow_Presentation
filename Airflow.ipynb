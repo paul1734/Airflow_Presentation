{
 "cells": [
  {
   "cell_type": "markdown",
   "id": "2cee8ff9-5181-4a13-8e87-ca2d83cee9ac",
   "metadata": {},
   "source": [
    "#  How to use Airflow!\n",
    "\n",
    "\n",
    "Apache Airflow is used as a workflow management platform. It can schedule and monitor different tasks. In the following, I will introduce you to the workings of Airflow. \n",
    "\n",
    "## First: How does a function work?\n",
    "\n",
    "As Airflow primarily is a seuqence of functions, we should understand how they work!"
   ]
  },
  {
   "cell_type": "code",
   "execution_count": 1,
   "id": "39d5c2a4-a33f-47cf-9fb6-f5db99ca6a73",
   "metadata": {
    "tags": []
   },
   "outputs": [],
   "source": [
    "def my_function():\n",
    "    print(\"Hello\")"
   ]
  },
  {
   "cell_type": "code",
   "execution_count": 2,
   "id": "d857761d-4d33-4f4d-888d-eb52cd048bdc",
   "metadata": {
    "tags": []
   },
   "outputs": [
    {
     "name": "stdout",
     "output_type": "stream",
     "text": [
      "Hello\n"
     ]
    }
   ],
   "source": [
    "my_function()"
   ]
  },
  {
   "cell_type": "markdown",
   "id": "4baf50c1-232e-4040-953a-8072e0c08161",
   "metadata": {},
   "source": [
    "This is the simplest form a function can have. You define it with a specific name (\"my_function\") and close it with ():\n",
    "\n",
    "Within the indented block, you write what your function needs to do. Im the next example, we will deine a small calculation function (\"my_calc\"). Here, we specify parameters (num1 and num2) for the function to work. "
   ]
  },
  {
   "cell_type": "code",
   "execution_count": 5,
   "id": "bee3a054-f52d-4104-9d12-820a05ac17e8",
   "metadata": {
    "tags": []
   },
   "outputs": [],
   "source": [
    "def my_calc(num1, num2):\n",
    "    result = num1 + num2 \n",
    "    return result"
   ]
  },
  {
   "cell_type": "markdown",
   "id": "9cf1c3d7-1fc7-44ad-b1c3-3bd2a417558b",
   "metadata": {},
   "source": [
    "Using specified arguments for each parameter, we can calculate 1+2 or 3+4. The parameters are given either based on their position on using keyword arguments. The keyword arguments have the additional benefit of defining default arguemnts within the function."
   ]
  },
  {
   "cell_type": "code",
   "execution_count": 12,
   "id": "46ec14c3-fb7e-4b27-bc0a-c949649278b7",
   "metadata": {
    "tags": []
   },
   "outputs": [
    {
     "data": {
      "text/plain": [
       "3"
      ]
     },
     "execution_count": 12,
     "metadata": {},
     "output_type": "execute_result"
    }
   ],
   "source": [
    "# Positional arguments\n",
    "my_calc(1, 2)"
   ]
  },
  {
   "cell_type": "code",
   "execution_count": 21,
   "id": "94342849-2b0b-4c2d-81b5-67439ef7c023",
   "metadata": {
    "tags": []
   },
   "outputs": [
    {
     "data": {
      "text/plain": [
       "3"
      ]
     },
     "execution_count": 21,
     "metadata": {},
     "output_type": "execute_result"
    }
   ],
   "source": [
    "# Keyword arguments\n",
    "my_calc(num1= 1, num2 = 2)"
   ]
  },
  {
   "cell_type": "code",
   "execution_count": 19,
   "id": "0556c0e3-375c-4d73-8ce2-44261d73686c",
   "metadata": {
    "tags": []
   },
   "outputs": [],
   "source": [
    "# num2 has a default values of 1\n",
    "# default values always need to be defined after all non-default arguments\n",
    "def my_calc_default(num1, num2=1):\n",
    "    result = num1 + num2 \n",
    "    return result"
   ]
  },
  {
   "cell_type": "code",
   "execution_count": 20,
   "id": "5872737d-cee8-4255-8f22-c36dd9207552",
   "metadata": {
    "tags": []
   },
   "outputs": [
    {
     "data": {
      "text/plain": [
       "6"
      ]
     },
     "execution_count": 20,
     "metadata": {},
     "output_type": "execute_result"
    }
   ],
   "source": [
    "# Keyword arguments\n",
    "my_calc_default(num1 = 5)"
   ]
  },
  {
   "cell_type": "markdown",
   "id": "da5e381f-703c-4d54-957a-baf1529dd050",
   "metadata": {
    "tags": []
   },
   "source": [
    "## What is Airflow?\n",
    "\n",
    "Airflow takes different tasks and orders them using a DAG. DAG stands for Directed Acyclic Graph.\n",
    "\n",
    "Directed -> One Direction only, e.g. A -> B and not A <-> B\n",
    "\n",
    "Acyclic -> non repretable, not A -> B -> A\n",
    "\n",
    "\n",
    "## The Structure\n",
    "### The difference between original Airflow and TaskFlow"
   ]
  },
  {
   "cell_type": "code",
   "execution_count": 22,
   "id": "f71049a2-982a-4fca-8d28-cc939416d3b3",
   "metadata": {},
   "outputs": [
    {
     "data": {
      "text/plain": [
       "<DAG: complete_task_overview>"
      ]
     },
     "execution_count": 22,
     "metadata": {},
     "output_type": "execute_result"
    }
   ],
   "source": [
    "import datetime\n",
    "import json\n",
    "import pendulum\n",
    "from airflow.decorators import dag, task\n",
    "\n",
    "# Original Structure:\n",
    "def task1():\n",
    "    x = 2+2\n",
    "    return x\n",
    "\n",
    "def task2(x):\n",
    "    y = x * x\n",
    "    return y\n",
    "    \n",
    "with DAG(dag_id=\"my_dag_name\",\n",
    "     start_date=datetime.datetime(2021, 1, 1), schedule=\"@daily\",):\n",
    "    # t1 and t2  are examples of tasks created by instantiating operators\n",
    "    t1 = PythonOperator(\n",
    "        task_id=\"task1\",\n",
    "        python_callable=task1,)\n",
    "\n",
    "    t2 = PythonOperator(\n",
    "       task_id=\"task2\",\n",
    "        python_callable=task2,\n",
    "        retries=3,\n",
    "    )\n",
    "\n",
    "    # Order of DAG: First t1, then t2\n",
    "    t1 >> t2\n",
    "\n",
    "\n",
    "# TaskFlow Structure:\n",
    "@dag(schedule=None,\n",
    "    start_date=pendulum.datetime(2021, 1, 1, tz=\"UTC\"),\n",
    "    catchup=False,tags=[\"example\"],)\n",
    "def complete_task_overview():\n",
    "    # your task 1 settings\n",
    "    @task(retries=1)\n",
    "    def task1():\n",
    "        x = 2+2\n",
    "        return x\n",
    "    # your task 2 settings\n",
    "    @task(retries=2)\n",
    "    def task2(x):\n",
    "        y = x * x\n",
    "        return y\n",
    "    \n",
    "    # Create order in procedural way\n",
    "    # save x as example\n",
    "    example = task1()\n",
    "    task2(example)\n",
    "    \n",
    "# Execute complete task\n",
    "complete_task_overview()"
   ]
  },
  {
   "cell_type": "markdown",
   "id": "b0162f1f-0028-42c0-995a-74d5dd681d15",
   "metadata": {},
   "source": [
    "## A more difficult example! Which is easier to read?"
   ]
  },
  {
   "cell_type": "code",
   "execution_count": 14,
   "id": "540ecf0a-e3ed-4c72-b667-5bf1db034150",
   "metadata": {
    "tags": []
   },
   "outputs": [],
   "source": [
    "# Original\n",
    "# Source\n",
    "# https://docs.astronomer.io/learn/airflow-decorators?tab=traditional#how-to-use-airflow-decorators\n",
    "\n",
    "import logging\n",
    "from datetime import datetime\n",
    "import requests\n",
    "from airflow import DAG\n",
    "from airflow.operators.python import PythonOperator\n",
    "\n",
    "API = \"https://api.coingecko.com/api/v3/simple/price?ids=bitcoin&vs_currencies=usd&include_market_cap=true&include_24hr_vol=true&include_24hr_change=true&include_last_updated_at=true\"\n",
    "\n",
    "\n",
    "def _extract_bitcoin_price():\n",
    "    return requests.get(API).json()[\"bitcoin\"]\n",
    "\n",
    "def _process_data(ti):\n",
    "    response = ti.xcom_pull(task_ids=\"extract_bitcoin_price\")\n",
    "    logging.info(response)\n",
    "    processed_data = {\"usd\": response[\"usd\"], \"change\": response[\"usd_24h_change\"]}\n",
    "    ti.xcom_push(key=\"processed_data\", value=processed_data)\n",
    "\n",
    "def _store_data(ti):\n",
    "    data = ti.xcom_pull(task_ids=\"process_data\", key=\"processed_data\")\n",
    "    logging.info(f\"Store: {data['usd']} with change {data['change']}\")\n",
    "\n",
    "with DAG(\n",
    "    \"classic_dag\", schedule=\"@daily\", start_date=datetime(2021, 12, 1), catchup=False):\n",
    "    extract_bitcoin_price = PythonOperator(\n",
    "        task_id=\"extract_bitcoin_price\", python_callable=_extract_bitcoin_price)\n",
    "\n",
    "    process_data = PythonOperator(task_id=\"process_data\", python_callable=_process_data)\n",
    "\n",
    "    store_data = PythonOperator(task_id=\"store_data\", python_callable=_store_data)\n",
    "\n",
    "    extract_bitcoin_price >> process_data >> store_data"
   ]
  },
  {
   "cell_type": "code",
   "execution_count": null,
   "id": "3fd795a3-eecc-43bb-9042-0f63aad3bb04",
   "metadata": {},
   "outputs": [],
   "source": [
    "# TaskFlow\n",
    "# Source\n",
    "# https://docs.astronomer.io/learn/airflow-decorators?tab=taskflow#how-to-use-airflow-decorators\n",
    "\n",
    "\"\"\"\n",
    "Structure:\n",
    "\n",
    "\"\"\"\n",
    "from datetime import datetime\n",
    "from typing import Dict\n",
    "import requests\n",
    "from airflow.decorators import dag, task\n",
    "\n",
    "API = \"https://api.coingecko.com/api/v3/simple/price?ids=bitcoin&vs_currencies=usd&include_market_cap=true&include_24hr_vol=true&include_24hr_change=true&include_last_updated_at=true\"\n",
    "\n",
    "\n",
    "@dag(schedule=\"@daily\", start_date=datetime(2021, 12, 1), catchup=False)\n",
    "def taskflow():\n",
    "    @task(task_id=\"extract\", retries=2)\n",
    "    def extract_bitcoin_price() -> Dict[str, float]:\n",
    "        return requests.get(API).json()[\"bitcoin\"]\n",
    "\n",
    "    @task(multiple_outputs=True)\n",
    "    def process_data(response: Dict[str, float]) -> Dict[str, float]:\n",
    "        logging.info(response)\n",
    "        return {\"usd\": response[\"usd\"], \"change\": response[\"usd_24h_change\"]}\n",
    "\n",
    "    @task\n",
    "    def store_data(data: Dict[str, float]):\n",
    "        logging.info(f\"Store: {data['usd']} with change {data['change']}\")\n",
    "\n",
    "    store_data(process_data(extract_bitcoin_price()))\n",
    "\n",
    "\n",
    "taskflow()"
   ]
  }
 ],
 "metadata": {
  "kernelspec": {
   "display_name": "Python 3 (ipykernel)",
   "language": "python",
   "name": "python3"
  },
  "language_info": {
   "codemirror_mode": {
    "name": "ipython",
    "version": 3
   },
   "file_extension": ".py",
   "mimetype": "text/x-python",
   "name": "python",
   "nbconvert_exporter": "python",
   "pygments_lexer": "ipython3",
   "version": "3.9.12"
  }
 },
 "nbformat": 4,
 "nbformat_minor": 5
}
